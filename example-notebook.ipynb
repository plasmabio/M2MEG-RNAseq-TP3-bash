{
 "cells": [
  {
   "cell_type": "markdown",
   "metadata": {},
   "source": [
    "# This example uses the Bash kernel\n",
    "\n",
    "## Simple Linux commands"
   ]
  },
  {
   "cell_type": "code",
   "execution_count": 1,
   "metadata": {},
   "outputs": [
    {
     "name": "stdout",
     "output_type": "stream",
     "text": [
      "/home/pierre/workp/projets/2020_PlasmaBio_dev/template-bash.git\n"
     ]
    }
   ],
   "source": [
    "pwd"
   ]
  },
  {
   "cell_type": "code",
   "execution_count": 2,
   "metadata": {},
   "outputs": [
    {
     "name": "stdout",
     "output_type": "stream",
     "text": [
      "\u001b[0m\u001b[01;34mbinder\u001b[0m/  example-notebook.ipynb  LICENSE  people.dat  README.md\n"
     ]
    }
   ],
   "source": [
    "ls"
   ]
  },
  {
   "cell_type": "code",
   "execution_count": 3,
   "metadata": {},
   "outputs": [
    {
     "name": "stdout",
     "output_type": "stream",
     "text": [
      "mardi 7 juillet 2020, 21:35:47 (UTC+0200)\n"
     ]
    }
   ],
   "source": [
    "date"
   ]
  },
  {
   "cell_type": "code",
   "execution_count": 4,
   "metadata": {},
   "outputs": [
    {
     "name": "stdout",
     "output_type": "stream",
     "text": [
      "\u001b[01;34m.\u001b[00m\n",
      "├── \u001b[01;34mbinder\u001b[00m\n",
      "│   ├── apt.txt\n",
      "│   ├── environment.yml\n",
      "│   └── postBuild\n",
      "├── example-notebook.ipynb\n",
      "├── LICENSE\n",
      "├── people.dat\n",
      "└── README.md\n",
      "\n",
      "1 directory, 7 files\n"
     ]
    }
   ],
   "source": [
    "tree"
   ]
  },
  {
   "cell_type": "markdown",
   "metadata": {},
   "source": [
    "## Filters"
   ]
  },
  {
   "cell_type": "code",
   "execution_count": 5,
   "metadata": {},
   "outputs": [
    {
     "name": "stdout",
     "output_type": "stream",
     "text": [
      "simon\tmale\t175\t33\n",
      "clara\tfemale\t167\t45\n",
      "serge\tmale\t181\t44\n",
      "claire\tfemale\t174\t31\n",
      "patrick\tmale\t172\t52\n",
      "julie\tfemale\t168\t37\n",
      "paul\tmale\t185\t29\n",
      "jeanne\tfemale\t172\t56\n",
      "baptiste\tmale\t178\t39\n",
      "mathilde\tfemale\t168\t46\n"
     ]
    }
   ],
   "source": [
    "head people.dat"
   ]
  },
  {
   "cell_type": "code",
   "execution_count": 6,
   "metadata": {},
   "outputs": [
    {
     "name": "stdout",
     "output_type": "stream",
     "text": [
      "\u001b[01;31m\u001b[Kcl\u001b[m\u001b[Kara\tfemale\t167\t45\n",
      "\u001b[01;31m\u001b[Kcl\u001b[m\u001b[Kaire\tfemale\t174\t31\n"
     ]
    }
   ],
   "source": [
    "grep \"cl\" people.dat"
   ]
  },
  {
   "cell_type": "code",
   "execution_count": 7,
   "metadata": {},
   "outputs": [
    {
     "name": "stdout",
     "output_type": "stream",
     "text": [
      "6\n"
     ]
    }
   ],
   "source": [
    "grep -c \"female\" people.dat"
   ]
  },
  {
   "cell_type": "code",
   "execution_count": 8,
   "metadata": {},
   "outputs": [
    {
     "name": "stdout",
     "output_type": "stream",
     "text": [
      "simon 175\n",
      "serge 181\n"
     ]
    }
   ],
   "source": [
    "awk '$1 ~ /^s/ {print $1, $3}' people.dat"
   ]
  },
  {
   "cell_type": "code",
   "execution_count": 9,
   "metadata": {},
   "outputs": [
    {
     "name": "stdout",
     "output_type": "stream",
     "text": [
      "8\n"
     ]
    }
   ],
   "source": [
    "awk '$3 > 170' people.dat | wc -l"
   ]
  },
  {
   "cell_type": "markdown",
   "metadata": {},
   "source": [
    "## Bash script"
   ]
  },
  {
   "cell_type": "code",
   "execution_count": 10,
   "metadata": {},
   "outputs": [
    {
     "name": "stdout",
     "output_type": "stream",
     "text": [
      "1\n",
      "3\n",
      "5\n",
      "7\n",
      "9\n"
     ]
    }
   ],
   "source": [
    "for number in $(seq 1 2 10)\n",
    "do\n",
    "    echo ${number}\n",
    "done"
   ]
  }
 ],
 "metadata": {
  "kernelspec": {
   "display_name": "Bash",
   "language": "bash",
   "name": "bash"
  },
  "language_info": {
   "codemirror_mode": "shell",
   "file_extension": ".sh",
   "mimetype": "text/x-sh",
   "name": "bash"
  }
 },
 "nbformat": 4,
 "nbformat_minor": 4
}
